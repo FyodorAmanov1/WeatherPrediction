{
  "nbformat": 4,
  "nbformat_minor": 0,
  "metadata": {
    "colab": {
      "provenance": [],
      "authorship_tag": "ABX9TyNGbMQwBe3FkmITnv1p9xFk",
      "include_colab_link": true
    },
    "kernelspec": {
      "name": "python3",
      "display_name": "Python 3"
    },
    "language_info": {
      "name": "python"
    }
  },
  "cells": [
    {
      "cell_type": "markdown",
      "metadata": {
        "id": "view-in-github",
        "colab_type": "text"
      },
      "source": [
        "<a href=\"https://colab.research.google.com/github/FyodorAmanov1/WeatherPrediction/blob/main/ProjectNumMeth1.ipynb\" target=\"_parent\"><img src=\"https://colab.research.google.com/assets/colab-badge.svg\" alt=\"Open In Colab\"/></a>"
      ]
    },
    {
      "cell_type": "code",
      "source": [
        "!pip install --upgrade meteostat\n",
        "!pip install numpy\n",
        "!pip install pandas\n",
        "\n",
        "from datetime import datetime\n",
        "from meteostat import Point, Hourly\n",
        "from meteostat import Point, Daily\n",
        "import numpy as np\n",
        "import pandas as pd"
      ],
      "metadata": {
        "colab": {
          "base_uri": "https://localhost:8080/"
        },
        "id": "ZIzj0Oa9Lr9w",
        "outputId": "7ee967f4-1c08-4aaa-8c77-855e6cc18922"
      },
      "execution_count": 1,
      "outputs": [
        {
          "output_type": "stream",
          "name": "stdout",
          "text": [
            "Collecting meteostat\n",
            "  Downloading meteostat-1.6.8-py3-none-any.whl.metadata (4.6 kB)\n",
            "Requirement already satisfied: pandas>=1.1 in /usr/local/lib/python3.11/dist-packages (from meteostat) (2.2.2)\n",
            "Requirement already satisfied: pytz in /usr/local/lib/python3.11/dist-packages (from meteostat) (2025.1)\n",
            "Requirement already satisfied: numpy in /usr/local/lib/python3.11/dist-packages (from meteostat) (1.26.4)\n",
            "Requirement already satisfied: python-dateutil>=2.8.2 in /usr/local/lib/python3.11/dist-packages (from pandas>=1.1->meteostat) (2.8.2)\n",
            "Requirement already satisfied: tzdata>=2022.7 in /usr/local/lib/python3.11/dist-packages (from pandas>=1.1->meteostat) (2025.1)\n",
            "Requirement already satisfied: six>=1.5 in /usr/local/lib/python3.11/dist-packages (from python-dateutil>=2.8.2->pandas>=1.1->meteostat) (1.17.0)\n",
            "Downloading meteostat-1.6.8-py3-none-any.whl (31 kB)\n",
            "Installing collected packages: meteostat\n",
            "Successfully installed meteostat-1.6.8\n",
            "Requirement already satisfied: numpy in /usr/local/lib/python3.11/dist-packages (1.26.4)\n",
            "Requirement already satisfied: pandas in /usr/local/lib/python3.11/dist-packages (2.2.2)\n",
            "Requirement already satisfied: numpy>=1.23.2 in /usr/local/lib/python3.11/dist-packages (from pandas) (1.26.4)\n",
            "Requirement already satisfied: python-dateutil>=2.8.2 in /usr/local/lib/python3.11/dist-packages (from pandas) (2.8.2)\n",
            "Requirement already satisfied: pytz>=2020.1 in /usr/local/lib/python3.11/dist-packages (from pandas) (2025.1)\n",
            "Requirement already satisfied: tzdata>=2022.7 in /usr/local/lib/python3.11/dist-packages (from pandas) (2025.1)\n",
            "Requirement already satisfied: six>=1.5 in /usr/local/lib/python3.11/dist-packages (from python-dateutil>=2.8.2->pandas) (1.17.0)\n"
          ]
        }
      ]
    },
    {
      "cell_type": "code",
      "source": [
        "!pip install astral"
      ],
      "metadata": {
        "colab": {
          "base_uri": "https://localhost:8080/"
        },
        "id": "1fi13qy2SLdv",
        "outputId": "f95c85dc-1a39-438f-ceb2-4af87a234ec3"
      },
      "execution_count": 23,
      "outputs": [
        {
          "output_type": "stream",
          "name": "stdout",
          "text": [
            "Requirement already satisfied: astral in /usr/local/lib/python3.11/dist-packages (3.2)\n"
          ]
        }
      ]
    },
    {
      "cell_type": "code",
      "source": [
        "from astral import LocationInfo\n",
        "from astral.sun import sun\n",
        "from datetime import datetime, timedelta"
      ],
      "metadata": {
        "id": "AHg1eXlPV4zR"
      },
      "execution_count": 25,
      "outputs": []
    },
    {
      "cell_type": "code",
      "source": [
        "import math\n",
        "import matplotlib.pyplot as plt"
      ],
      "metadata": {
        "id": "Y68q_FOEsUGR"
      },
      "execution_count": 3,
      "outputs": []
    },
    {
      "cell_type": "code",
      "source": [
        "def S(x, beta, D, t_sunrise):\n",
        "  return beta*max(0, math.sin(2*math.pi*(x - t_sunrise)/D*60))\n",
        "\n",
        "def T_target(x, T_monthly_mean, Tmonthly_minimum, T_monthly_max, month, t_peak):\n",
        "  return T_monthly_mean[month] + (T_monthly_max[month] - Tmonthly_minimum[month])/2*math.sin(2*math.pi*(x - t_peak)/1440)\n",
        "\n",
        "def T_pattern(x, T_prev_minute_temps, T_monthly_mean, month):\n",
        "  return T_prev_minute_temps[x] + T_monthly_mean[month] - np.mean(T_prev_minute_temps)\n",
        "\n",
        "def TemperatureModel(x, T, data):\n",
        "  alpha1, alpha2, beta, dayLength, t_sunrise, T_monthly_mean, Tmonthly_minimum, T_monthly_max, T_prev, month, t_peak = data\n",
        "  if x - math.floor(x) == 0.5:\n",
        "    return (TemperatureModel(int(x - 0.5), T, data) + TemperatureModel(int(x + 0.5), T, data))/2\n",
        "  else:\n",
        "    return alpha1*(T_target(x, T_monthly_mean, Tmonthly_minimum, T_monthly_max, month, t_peak) - T) + alpha2*(T_pattern(x, T_prev, T_monthly_mean, month) - T) + S(x, beta, dayLength, t_sunrise)"
      ],
      "metadata": {
        "id": "Pj2lgiJoeMeH"
      },
      "execution_count": 4,
      "outputs": []
    },
    {
      "cell_type": "code",
      "source": [
        "def DERunge_Kutta_4(func, T0, time0, data):\n",
        "\n",
        "  N = 1440\n",
        "  time = [time0 + i for i in range(N)]\n",
        "  T = [0 for i in range(N)]\n",
        "  T[0] = T0\n",
        "\n",
        "  alpha1, alpha2, beta, dayLength, t_sunrise, T_monthly_mean, T_monthly_min, T_monthly_max, T_prev, month, t_peak = data\n",
        "\n",
        "  for i in range(1, N - 1):\n",
        "    k1 = func(time0 + i, T[i], data)\n",
        "\n",
        "    k2 = func(time0 + i + 1/2, T[i] + k1/2, data)\n",
        "\n",
        "    k3 = func(time0 + i + 1/2, T[i] + k2/2, data)\n",
        "\n",
        "    k4 = func(time0 + i + 1, T[i] + k3, data)\n",
        "\n",
        "    T[i+1] = T[i] + (k1 + 2*k2 + 2*k3 + k4)/6\n",
        "\n",
        "\n",
        "  T_monthly_mean_repeated = np.repeat(T_monthly_mean[month], len(time))\n",
        "  T_monthly_min_repeated = np.repeat(T_monthly_min[month], len(time))\n",
        "  T_monthly_max_repeated = np.repeat(T_monthly_max[month], len(time))\n",
        "\n",
        "  plt.plot(time, T, label=\"Predicted\")\n",
        "  plt.plot(time, T_monthly_mean_repeated, label=\"Monthly mean\")  # Use repeated values\n",
        "  plt.plot(time, T_monthly_min_repeated, label=\"Monthly min\")  # Use repeated values\n",
        "  plt.plot(time, T_monthly_max_repeated, label=\"Monthly max\")  # Use repeated values\n",
        "  plt.plot(time, T_prev, label=\"Previous day temperature\")\n",
        "\n",
        "  plt.legend()\n",
        "\n",
        "  plt.title('Temperature Model')\n",
        "  plt.xlabel('Time')\n",
        "  plt.ylabel('Temperature')\n",
        "  plt.show()\n"
      ],
      "metadata": {
        "id": "NocAqvGbhITj"
      },
      "execution_count": 5,
      "outputs": []
    },
    {
      "cell_type": "code",
      "source": [
        "print(\"Enter year, month and day: \")\n",
        "year = int(input())\n",
        "month = int(input())\n",
        "day = int(input())"
      ],
      "metadata": {
        "colab": {
          "base_uri": "https://localhost:8080/"
        },
        "id": "sHa297A_1I_Q",
        "outputId": "37d8348a-6b17-4b33-eab5-5d6f647b0d6e"
      },
      "execution_count": 6,
      "outputs": [
        {
          "name": "stdout",
          "output_type": "stream",
          "text": [
            "Enter year, month and day: \n",
            "2005\n",
            "11\n",
            "1\n"
          ]
        }
      ]
    },
    {
      "cell_type": "code",
      "source": [
        "print(\"Enter city name: \")\n",
        "city_name = input()"
      ],
      "metadata": {
        "colab": {
          "base_uri": "https://localhost:8080/"
        },
        "id": "_YV0EqDM2Hqi",
        "outputId": "115e58a6-3e23-4871-f652-f1985b9e9160"
      },
      "execution_count": 42,
      "outputs": [
        {
          "name": "stdout",
          "output_type": "stream",
          "text": [
            "Enter city name: \n",
            "London Uk\n"
          ]
        }
      ]
    },
    {
      "cell_type": "code",
      "source": [
        "from astral import LocationInfo\n",
        "from astral.sun import sun\n",
        "from datetime import datetime\n",
        "from geopy.geocoders import Nominatim\n",
        "\n",
        "# Function to get city coordinates using geopy\n",
        "def get_city_coordinates(city_name: str):\n",
        "    geolocator = Nominatim(user_agent=\"city_locator\")\n",
        "    location = geolocator.geocode(city_name)\n",
        "    if location:\n",
        "        return location.latitude, location.longitude\n",
        "    else:\n",
        "        raise ValueError(f\"Could not find coordinates for {city_name}\")\n",
        "\n",
        "try:\n",
        "    latitude, longitude = get_city_coordinates(city_name)\n",
        "    print(f\"Latitude: {latitude}, Longitude: {longitude}\")\n",
        "    location = Point(latitude, longitude)\n",
        "except Exception as e:\n",
        "    print(e)\n"
      ],
      "metadata": {
        "colab": {
          "base_uri": "https://localhost:8080/"
        },
        "id": "g21SLyKnX9eD",
        "outputId": "1330b613-0e78-45ef-d627-8783517d1fce"
      },
      "execution_count": 43,
      "outputs": [
        {
          "output_type": "stream",
          "name": "stdout",
          "text": [
            "Latitude: 51.4893335, Longitude: -0.14405508452768728\n"
          ]
        }
      ]
    },
    {
      "source": [
        "start = datetime(year, 1, 1)\n",
        "end = datetime(year, 12, 31)"
      ],
      "cell_type": "code",
      "metadata": {
        "id": "jX0ySGM0BTxr"
      },
      "execution_count": 44,
      "outputs": []
    },
    {
      "source": [
        "try:\n",
        "    data = Daily(location, start, end)\n",
        "    data = data.fetch()\n",
        "    print(\"Data fetched successfully!\")\n",
        "\n",
        "    # Check if the DataFrame is empty\n",
        "    if data.empty:\n",
        "        print(\"No data found for the specified location and date range.\")\n",
        "        # Proceed with generating synthetic data using estimated values\n",
        "    else:\n",
        "        # Access temperature columns and handle missing values\n",
        "        tavg = data['tavg'].fillna(method='ffill').values\n",
        "        tmin = data['tmin'].fillna(method='ffill').values\n",
        "        tmax = data['tmax'].fillna(method='ffill').values\n",
        "\n",
        "        # Calculate monthly statistics\n",
        "        T_monthly_mean = []\n",
        "        T_monthly_min = []\n",
        "        T_monthly_max = []\n",
        "\n",
        "        for month in range(1, 13):\n",
        "            monthly_data_tavg = tavg[(data.index.month == month)]\n",
        "            monthly_data_tmin = tmin[(data.index.month == month)]\n",
        "            monthly_data_tmax = tmax[(data.index.month == month)]\n",
        "\n",
        "            if len(monthly_data_tavg) > 0:\n",
        "                T_monthly_mean.append(np.mean(monthly_data_tavg))\n",
        "                T_monthly_min.append(np.min(monthly_data_tmin))\n",
        "                T_monthly_max.append(np.max(monthly_data_tmax))\n",
        "            else:\n",
        "                # Handle missing data using estimated values\n",
        "                T_monthly_mean.append(np.nan)\n",
        "                T_monthly_min.append(np.nan)\n",
        "                T_monthly_max.append(np.nan)\n",
        "\n",
        "\n",
        "        T_monthly_mean = np.nan_to_num(T_monthly_mean, nan=15)  # Example: Replace NaN with 15\n",
        "        T_monthly_min = np.nan_to_num(T_monthly_min, nan=5)      # Example: Replace NaN with 5\n",
        "        T_monthly_max = np.nan_to_num(T_monthly_max, nan=25)     # Example: Replace NaN with 25\n",
        "\n",
        "        print(\"Monthly Mean Temperatures:\", T_monthly_mean)\n",
        "        print(\"Monthly Minimum Temperatures:\", T_monthly_min)\n",
        "        print(\"Monthly Maximum Temperatures:\", T_monthly_max)\n",
        "\n",
        "except Exception as e:\n",
        "    print(f\"Error fetching data: {e}\")\n",
        "    # Proceed with generating synthetic data using estimated values"
      ],
      "cell_type": "code",
      "metadata": {
        "colab": {
          "base_uri": "https://localhost:8080/"
        },
        "id": "oz9LVaztBUd3",
        "outputId": "bd8aab72-f9c9-4299-ea08-78e32086ba7a"
      },
      "execution_count": 45,
      "outputs": [
        {
          "output_type": "stream",
          "name": "stderr",
          "text": [
            "FutureWarning: Support for nested sequences for 'parse_dates' in pd.read_csv is deprecated. Combine the desired columns with pd.to_datetime after parsing instead.\n",
            "FutureWarning: Support for nested sequences for 'parse_dates' in pd.read_csv is deprecated. Combine the desired columns with pd.to_datetime after parsing instead.\n"
          ]
        },
        {
          "output_type": "stream",
          "name": "stdout",
          "text": [
            "Data fetched successfully!\n",
            "Monthly Mean Temperatures: [ 7.73870968  5.52857143  8.58064516 11.03333333 13.42580645 17.91\n",
            " 18.43870968 18.29677419 17.21       14.91612903  8.01666667  6.22903226]\n",
            "Monthly Minimum Temperatures: [ 0.9 -1.6 -0.7  0.8  5.   7.4 11.6 11.4  4.9  8.9  0.3 -0.9]\n",
            "Monthly Maximum Temperatures: [14.2 13.2 20.3 23.  31.7 33.1 30.7 31.9 28.1 22.9 18.  12.2]\n"
          ]
        },
        {
          "output_type": "stream",
          "name": "stderr",
          "text": [
            "FutureWarning: Series.fillna with 'method' is deprecated and will raise in a future version. Use obj.ffill() or obj.bfill() instead.\n",
            "FutureWarning: Series.fillna with 'method' is deprecated and will raise in a future version. Use obj.ffill() or obj.bfill() instead.\n",
            "FutureWarning: Series.fillna with 'method' is deprecated and will raise in a future version. Use obj.ffill() or obj.bfill() instead.\n"
          ]
        }
      ]
    },
    {
      "source": [
        "# Date for which you want hourly data\n",
        "if day == 1 and month == 1:\n",
        "  year = year - 1\n",
        "  month = 12\n",
        "  day = 30\n",
        "elif day == 1:\n",
        "  month = month - 1\n",
        "  if year % 4 == 0:\n",
        "    v = [31, 28, 31, 30, 31, 30, 31, 31, 30, 31, 30, 31]\n",
        "    day = v[month - 1] - 1\n",
        "  else:\n",
        "    v = [31, 29, 31, 30, 31, 30, 31, 31, 30, 31, 30, 31]\n",
        "    day = v[month - 1] - 1\n",
        "else:\n",
        "  day = day - 1\n",
        "target_date = datetime(year, month, day)  # Change year if needed\n",
        "\n",
        "# Get hourly data for the target date\n",
        "start = datetime(target_date.year, target_date.month, target_date.day, 0, 0)\n",
        "end = datetime(target_date.year, target_date.month, target_date.day, 23, 59)\n",
        "\n",
        "try:\n",
        "    data = Hourly(location, start, end)\n",
        "    data = data.fetch()\n",
        "    print(\"Hourly data fetched successfully!\")\n",
        "\n",
        "    # Check if the DataFrame is empty\n",
        "    if data.empty:\n",
        "        print(\"No hourly data found for the specified location and date range.\")\n",
        "        # Handle case where no data is found (e.g., use estimated values)\n",
        "    else:\n",
        "        # Reset index to avoid potential future issues\n",
        "        data = data.reset_index()\n",
        "\n",
        "        T_prev = np.array(data['temp'])\n",
        "\n",
        "except Exception as e:\n",
        "    print(f\"Error fetching data: {e}\")\n",
        "    # Handle error (e.g., use estimated values)"
      ],
      "cell_type": "code",
      "metadata": {
        "colab": {
          "base_uri": "https://localhost:8080/"
        },
        "id": "eL8RTL1lLfqi",
        "outputId": "4803a6c4-4ec0-4201-8a92-c3ce523fdbf5"
      },
      "execution_count": 46,
      "outputs": [
        {
          "output_type": "stream",
          "name": "stderr",
          "text": [
            "FutureWarning: Support for nested sequences for 'parse_dates' in pd.read_csv is deprecated. Combine the desired columns with pd.to_datetime after parsing instead.\n",
            "FutureWarning: Support for nested sequences for 'parse_dates' in pd.read_csv is deprecated. Combine the desired columns with pd.to_datetime after parsing instead.\n"
          ]
        },
        {
          "output_type": "stream",
          "name": "stdout",
          "text": [
            "Hourly data fetched successfully!\n"
          ]
        },
        {
          "output_type": "stream",
          "name": "stderr",
          "text": [
            "FutureWarning: 'H' is deprecated and will be removed in a future version, please use 'h' instead.\n"
          ]
        }
      ]
    },
    {
      "source": [
        "import numpy as np\n",
        "\n",
        "def interpolate_temperatures(hourly_temperatures):\n",
        "  \"\"\"\n",
        "  Interpolates hourly temperatures to minute-level temperatures.\n",
        "\n",
        "  Args:\n",
        "    hourly_temperatures: A list or array of 24 hourly temperature values.\n",
        "\n",
        "  Returns:\n",
        "    An array of 1440 minute-level temperatures.\n",
        "  \"\"\"\n",
        "  minutes_in_hour = 60\n",
        "  total_minutes = 24 * minutes_in_hour  # 1440 minutes in a day\n",
        "\n",
        "  # Create an array of minutes (0 to 1439)\n",
        "  minutes = np.arange(total_minutes)\n",
        "\n",
        "  # Create an array of hours (0 to 23)\n",
        "  hours = np.arange(24)\n",
        "\n",
        "  # Interpolate hourly temperatures to minute-level temperatures\n",
        "  minute_temperatures = np.interp(minutes, hours * minutes_in_hour, hourly_temperatures)\n",
        "\n",
        "  return minute_temperatures\n",
        "\n",
        "\n",
        "T_prev_minute_temps = interpolate_temperatures(T_prev)\n",
        "\n",
        "print(T_prev)\n",
        "print(*T_prev_minute_temps)  # Output: 1440"
      ],
      "cell_type": "code",
      "metadata": {
        "colab": {
          "base_uri": "https://localhost:8080/"
        },
        "id": "KFR00p6KImeB",
        "outputId": "dba98105-0162-4066-de2f-97b45f6409e1"
      },
      "execution_count": 47,
      "outputs": [
        {
          "output_type": "stream",
          "name": "stdout",
          "text": [
            "[1.8 1.4 1.3 1.  1.  0.9 0.9 0.8 0.9 1.  0.9 1.3 1.9 1.9 2.2 1.8 1.7 1.3\n",
            " 1.6 1.7 1.7 1.3 0.9 0.9]\n",
            "1.8 1.7933333333333334 1.7866666666666666 1.78 1.7733333333333334 1.7666666666666666 1.76 1.7533333333333334 1.7466666666666666 1.74 1.7333333333333334 1.7266666666666666 1.72 1.7133333333333334 1.7066666666666668 1.7 1.6933333333333334 1.6866666666666668 1.68 1.6733333333333333 1.6666666666666667 1.66 1.6533333333333333 1.6466666666666667 1.64 1.6333333333333333 1.6266666666666667 1.62 1.6133333333333333 1.6066666666666667 1.6 1.5933333333333333 1.5866666666666667 1.58 1.5733333333333333 1.5666666666666667 1.56 1.5533333333333332 1.5466666666666666 1.54 1.5333333333333332 1.5266666666666666 1.52 1.5133333333333332 1.5066666666666666 1.5 1.4933333333333332 1.4866666666666666 1.48 1.4733333333333332 1.4666666666666666 1.46 1.4533333333333331 1.4466666666666665 1.44 1.4333333333333331 1.4266666666666665 1.42 1.4133333333333333 1.4066666666666665 1.4 1.3983333333333332 1.3966666666666665 1.395 1.3933333333333333 1.3916666666666666 1.39 1.3883333333333332 1.3866666666666665 1.385 1.3833333333333333 1.3816666666666666 1.38 1.3783333333333332 1.3766666666666667 1.375 1.3733333333333333 1.3716666666666666 1.3699999999999999 1.3683333333333332 1.3666666666666667 1.365 1.3633333333333333 1.3616666666666666 1.3599999999999999 1.3583333333333334 1.3566666666666667 1.355 1.3533333333333333 1.3516666666666666 1.35 1.3483333333333334 1.3466666666666667 1.345 1.3433333333333333 1.3416666666666666 1.34 1.3383333333333334 1.3366666666666667 1.335 1.3333333333333333 1.3316666666666666 1.33 1.3283333333333334 1.3266666666666667 1.325 1.3233333333333333 1.3216666666666668 1.32 1.3183333333333334 1.3166666666666667 1.315 1.3133333333333335 1.3116666666666668 1.31 1.3083333333333333 1.3066666666666666 1.305 1.3033333333333335 1.3016666666666667 1.3 1.2950000000000002 1.29 1.2850000000000001 1.28 1.2750000000000001 1.27 1.2650000000000001 1.26 1.2550000000000001 1.25 1.245 1.24 1.235 1.23 1.225 1.22 1.215 1.21 1.205 1.2 1.195 1.19 1.185 1.18 1.175 1.17 1.165 1.1600000000000001 1.155 1.15 1.145 1.1400000000000001 1.135 1.13 1.125 1.12 1.115 1.11 1.105 1.1 1.095 1.09 1.085 1.08 1.075 1.07 1.065 1.06 1.055 1.05 1.045 1.04 1.035 1.03 1.025 1.02 1.0150000000000001 1.01 1.005 1.0 1.0 1.0 1.0 1.0 1.0 1.0 1.0 1.0 1.0 1.0 1.0 1.0 1.0 1.0 1.0 1.0 1.0 1.0 1.0 1.0 1.0 1.0 1.0 1.0 1.0 1.0 1.0 1.0 1.0 1.0 1.0 1.0 1.0 1.0 1.0 1.0 1.0 1.0 1.0 1.0 1.0 1.0 1.0 1.0 1.0 1.0 1.0 1.0 1.0 1.0 1.0 1.0 1.0 1.0 1.0 1.0 1.0 1.0 1.0 1.0 0.9983333333333333 0.9966666666666667 0.995 0.9933333333333333 0.9916666666666667 0.99 0.9883333333333333 0.9866666666666667 0.985 0.9833333333333334 0.9816666666666667 0.98 0.9783333333333334 0.9766666666666667 0.975 0.9733333333333334 0.9716666666666667 0.97 0.9683333333333334 0.9666666666666667 0.965 0.9633333333333334 0.9616666666666667 0.96 0.9583333333333334 0.9566666666666667 0.955 0.9533333333333334 0.9516666666666667 0.95 0.9483333333333334 0.9466666666666667 0.9450000000000001 0.9433333333333334 0.9416666666666667 0.9400000000000001 0.9383333333333334 0.9366666666666666 0.935 0.9333333333333333 0.9316666666666666 0.93 0.9283333333333333 0.9266666666666666 0.925 0.9233333333333333 0.9216666666666666 0.92 0.9183333333333333 0.9166666666666667 0.915 0.9133333333333333 0.9116666666666666 0.91 0.9083333333333333 0.9066666666666667 0.905 0.9033333333333333 0.9016666666666667 0.9 0.9 0.9 0.9 0.9 0.9 0.9 0.9 0.9 0.9 0.9 0.9 0.9 0.9 0.9 0.9 0.9 0.9 0.9 0.9 0.9 0.9 0.9 0.9 0.9 0.9 0.9 0.9 0.9 0.9 0.9 0.9 0.9 0.9 0.9 0.9 0.9 0.9 0.9 0.9 0.9 0.9 0.9 0.9 0.9 0.9 0.9 0.9 0.9 0.9 0.9 0.9 0.9 0.9 0.9 0.9 0.9 0.9 0.9 0.9 0.9 0.8983333333333333 0.8966666666666667 0.895 0.8933333333333333 0.8916666666666667 0.89 0.8883333333333333 0.8866666666666667 0.885 0.8833333333333333 0.8816666666666667 0.88 0.8783333333333334 0.8766666666666667 0.875 0.8733333333333334 0.8716666666666667 0.87 0.8683333333333334 0.8666666666666667 0.865 0.8633333333333334 0.8616666666666667 0.86 0.8583333333333334 0.8566666666666667 0.855 0.8533333333333334 0.8516666666666667 0.8500000000000001 0.8483333333333334 0.8466666666666667 0.8450000000000001 0.8433333333333334 0.8416666666666667 0.8400000000000001 0.8383333333333334 0.8366666666666667 0.8350000000000001 0.8333333333333334 0.8316666666666667 0.8300000000000001 0.8283333333333334 0.8266666666666667 0.8250000000000001 0.8233333333333334 0.8216666666666667 0.8200000000000001 0.8183333333333334 0.8166666666666667 0.8150000000000001 0.8133333333333334 0.8116666666666668 0.81 0.8083333333333333 0.8066666666666668 0.805 0.8033333333333333 0.8016666666666667 0.8 0.8016666666666667 0.8033333333333333 0.805 0.8066666666666668 0.8083333333333333 0.81 0.8116666666666668 0.8133333333333334 0.8150000000000001 0.8166666666666667 0.8183333333333334 0.8200000000000001 0.8216666666666667 0.8233333333333334 0.8250000000000001 0.8266666666666667 0.8283333333333334 0.8300000000000001 0.8316666666666667 0.8333333333333334 0.8350000000000001 0.8366666666666667 0.8383333333333334 0.8400000000000001 0.8416666666666667 0.8433333333333334 0.8450000000000001 0.8466666666666667 0.8483333333333334 0.8500000000000001 0.8516666666666667 0.8533333333333334 0.855 0.8566666666666667 0.8583333333333334 0.86 0.8616666666666667 0.8633333333333334 0.865 0.8666666666666667 0.8683333333333334 0.87 0.8716666666666667 0.8733333333333334 0.875 0.8766666666666667 0.8783333333333334 0.88 0.8816666666666667 0.8833333333333333 0.885 0.8866666666666667 0.8883333333333334 0.89 0.8916666666666667 0.8933333333333333 0.895 0.8966666666666667 0.8983333333333333 0.9 0.9016666666666667 0.9033333333333333 0.905 0.9066666666666667 0.9083333333333333 0.91 0.9116666666666667 0.9133333333333333 0.915 0.9166666666666667 0.9183333333333333 0.92 0.9216666666666666 0.9233333333333333 0.925 0.9266666666666666 0.9283333333333333 0.93 0.9316666666666666 0.9333333333333333 0.935 0.9366666666666666 0.9383333333333334 0.9400000000000001 0.9416666666666667 0.9433333333333334 0.9450000000000001 0.9466666666666667 0.9483333333333334 0.95 0.9516666666666667 0.9533333333333334 0.955 0.9566666666666667 0.9583333333333334 0.96 0.9616666666666667 0.9633333333333334 0.965 0.9666666666666667 0.9683333333333334 0.97 0.9716666666666667 0.9733333333333334 0.975 0.9766666666666667 0.9783333333333334 0.98 0.9816666666666667 0.9833333333333334 0.985 0.9866666666666667 0.9883333333333333 0.99 0.9916666666666667 0.9933333333333333 0.995 0.9966666666666667 0.9983333333333333 1.0 0.9983333333333333 0.9966666666666667 0.995 0.9933333333333333 0.9916666666666667 0.99 0.9883333333333333 0.9866666666666667 0.985 0.9833333333333334 0.9816666666666667 0.98 0.9783333333333334 0.9766666666666667 0.975 0.9733333333333334 0.9716666666666667 0.97 0.9683333333333334 0.9666666666666667 0.965 0.9633333333333334 0.9616666666666667 0.96 0.9583333333333334 0.9566666666666667 0.955 0.9533333333333334 0.9516666666666667 0.95 0.9483333333333334 0.9466666666666667 0.9450000000000001 0.9433333333333334 0.9416666666666667 0.9400000000000001 0.9383333333333334 0.9366666666666666 0.935 0.9333333333333333 0.9316666666666666 0.93 0.9283333333333333 0.9266666666666666 0.925 0.9233333333333333 0.9216666666666666 0.92 0.9183333333333333 0.9166666666666667 0.915 0.9133333333333333 0.9116666666666666 0.91 0.9083333333333333 0.9066666666666667 0.905 0.9033333333333333 0.9016666666666667 0.9 0.9066666666666667 0.9133333333333333 0.92 0.9266666666666666 0.9333333333333333 0.9400000000000001 0.9466666666666667 0.9533333333333334 0.9600000000000001 0.9666666666666667 0.9733333333333334 0.98 0.9866666666666667 0.9933333333333334 1.0 1.0066666666666666 1.0133333333333334 1.02 1.0266666666666666 1.0333333333333334 1.04 1.0466666666666666 1.0533333333333335 1.06 1.0666666666666667 1.0733333333333333 1.08 1.0866666666666667 1.0933333333333333 1.1 1.1066666666666667 1.1133333333333333 1.12 1.1266666666666667 1.1333333333333333 1.1400000000000001 1.1466666666666667 1.1533333333333333 1.1600000000000001 1.1666666666666667 1.1733333333333333 1.1800000000000002 1.1866666666666668 1.1933333333333334 1.2000000000000002 1.2066666666666668 1.2133333333333334 1.22 1.2266666666666666 1.2333333333333334 1.24 1.2466666666666666 1.2533333333333334 1.26 1.2666666666666666 1.2733333333333334 1.28 1.2866666666666666 1.2933333333333334 1.3 1.31 1.32 1.33 1.34 1.35 1.36 1.37 1.3800000000000001 1.3900000000000001 1.4 1.4100000000000001 1.42 1.43 1.44 1.45 1.46 1.47 1.48 1.49 1.5 1.51 1.52 1.53 1.54 1.55 1.56 1.57 1.58 1.59 1.6 1.6099999999999999 1.62 1.63 1.6400000000000001 1.65 1.66 1.67 1.68 1.69 1.7 1.71 1.72 1.73 1.74 1.75 1.76 1.77 1.78 1.79 1.8 1.81 1.8199999999999998 1.83 1.8399999999999999 1.85 1.8599999999999999 1.87 1.88 1.89 1.9 1.9 1.9 1.9 1.9 1.9 1.9 1.9 1.9 1.9 1.9 1.9 1.9 1.9 1.9 1.9 1.9 1.9 1.9 1.9 1.9 1.9 1.9 1.9 1.9 1.9 1.9 1.9 1.9 1.9 1.9 1.9 1.9 1.9 1.9 1.9 1.9 1.9 1.9 1.9 1.9 1.9 1.9 1.9 1.9 1.9 1.9 1.9 1.9 1.9 1.9 1.9 1.9 1.9 1.9 1.9 1.9 1.9 1.9 1.9 1.9 1.9049999999999998 1.91 1.915 1.92 1.9249999999999998 1.93 1.935 1.94 1.9449999999999998 1.95 1.955 1.96 1.9649999999999999 1.97 1.975 1.98 1.9849999999999999 1.99 1.995 2.0 2.005 2.01 2.015 2.02 2.025 2.0300000000000002 2.035 2.04 2.045 2.05 2.055 2.06 2.065 2.0700000000000003 2.075 2.08 2.085 2.09 2.095 2.1 2.105 2.1100000000000003 2.115 2.12 2.125 2.13 2.1350000000000002 2.14 2.145 2.1500000000000004 2.1550000000000002 2.16 2.165 2.17 2.1750000000000003 2.18 2.185 2.1900000000000004 2.1950000000000003 2.2 2.1933333333333334 2.186666666666667 2.18 2.1733333333333333 2.166666666666667 2.16 2.1533333333333333 2.146666666666667 2.14 2.1333333333333333 2.126666666666667 2.12 2.1133333333333333 2.106666666666667 2.1 2.0933333333333333 2.086666666666667 2.08 2.0733333333333333 2.066666666666667 2.06 2.0533333333333337 2.046666666666667 2.04 2.0333333333333337 2.026666666666667 2.02 2.0133333333333336 2.006666666666667 2.0 1.9933333333333334 1.9866666666666668 1.98 1.9733333333333334 1.9666666666666668 1.9600000000000002 1.9533333333333334 1.9466666666666668 1.9400000000000002 1.9333333333333333 1.9266666666666667 1.9200000000000002 1.9133333333333336 1.9066666666666667 1.9000000000000001 1.8933333333333335 1.8866666666666667 1.8800000000000001 1.8733333333333335 1.8666666666666667 1.86 1.8533333333333335 1.8466666666666667 1.84 1.8333333333333335 1.8266666666666667 1.82 1.8133333333333335 1.8066666666666666 1.8 1.7983333333333333 1.7966666666666666 1.795 1.7933333333333334 1.7916666666666667 1.79 1.7883333333333333 1.7866666666666666 1.7850000000000001 1.7833333333333334 1.7816666666666667 1.78 1.7783333333333333 1.7766666666666666 1.775 1.7733333333333334 1.7716666666666667 1.77 1.7683333333333333 1.7666666666666666 1.7650000000000001 1.7633333333333334 1.7616666666666667 1.76 1.7583333333333333 1.7566666666666666 1.755 1.7533333333333334 1.7516666666666667 1.75 1.7483333333333333 1.7466666666666666 1.745 1.7433333333333334 1.7416666666666667 1.74 1.7383333333333333 1.7366666666666666 1.7349999999999999 1.7333333333333334 1.7316666666666667 1.73 1.7283333333333333 1.7266666666666666 1.725 1.7233333333333334 1.7216666666666667 1.72 1.7183333333333333 1.7166666666666666 1.7149999999999999 1.7133333333333334 1.7116666666666667 1.71 1.7083333333333333 1.7066666666666666 1.705 1.7033333333333334 1.7016666666666667 1.7 1.6933333333333334 1.6866666666666665 1.68 1.6733333333333333 1.6666666666666665 1.66 1.6533333333333333 1.6466666666666667 1.64 1.6333333333333333 1.6266666666666667 1.6199999999999999 1.6133333333333333 1.6066666666666667 1.6 1.5933333333333333 1.5866666666666667 1.58 1.5733333333333333 1.5666666666666667 1.56 1.5533333333333332 1.5466666666666666 1.54 1.5333333333333332 1.5266666666666666 1.52 1.5133333333333334 1.5066666666666666 1.5 1.4933333333333334 1.4866666666666666 1.48 1.4733333333333334 1.4666666666666668 1.46 1.4533333333333334 1.4466666666666668 1.44 1.4333333333333333 1.4266666666666667 1.42 1.4133333333333333 1.4066666666666667 1.4 1.3933333333333333 1.3866666666666667 1.38 1.3733333333333333 1.3666666666666667 1.36 1.3533333333333333 1.3466666666666667 1.34 1.3333333333333335 1.3266666666666667 1.32 1.3133333333333335 1.3066666666666666 1.3 1.305 1.31 1.315 1.32 1.325 1.33 1.335 1.34 1.345 1.35 1.355 1.36 1.365 1.37 1.375 1.3800000000000001 1.385 1.3900000000000001 1.395 1.4000000000000001 1.405 1.4100000000000001 1.415 1.4200000000000002 1.425 1.4300000000000002 1.435 1.44 1.445 1.4500000000000002 1.455 1.46 1.465 1.4700000000000002 1.475 1.48 1.485 1.49 1.495 1.5 1.5050000000000001 1.51 1.5150000000000001 1.52 1.5250000000000001 1.53 1.5350000000000001 1.54 1.5450000000000002 1.55 1.5550000000000002 1.56 1.5650000000000002 1.57 1.5750000000000002 1.58 1.585 1.59 1.5950000000000002 1.6 1.6016666666666668 1.6033333333333335 1.605 1.6066666666666667 1.6083333333333334 1.61 1.6116666666666668 1.6133333333333335 1.615 1.6166666666666667 1.6183333333333334 1.62 1.6216666666666668 1.6233333333333333 1.625 1.6266666666666667 1.6283333333333334 1.6300000000000001 1.6316666666666668 1.6333333333333333 1.635 1.6366666666666667 1.6383333333333334 1.6400000000000001 1.6416666666666666 1.6433333333333333 1.645 1.6466666666666667 1.6483333333333334 1.65 1.6516666666666666 1.6533333333333333 1.655 1.6566666666666667 1.6583333333333334 1.66 1.6616666666666666 1.6633333333333333 1.665 1.6666666666666667 1.6683333333333334 1.67 1.6716666666666666 1.6733333333333333 1.675 1.6766666666666667 1.6783333333333332 1.68 1.6816666666666666 1.6833333333333333 1.685 1.6866666666666665 1.6883333333333332 1.69 1.6916666666666667 1.6933333333333334 1.695 1.6966666666666665 1.6983333333333333 1.7 1.7 1.7 1.7 1.7 1.7 1.7 1.7 1.7 1.7 1.7 1.7 1.7 1.7 1.7 1.7 1.7 1.7 1.7 1.7 1.7 1.7 1.7 1.7 1.7 1.7 1.7 1.7 1.7 1.7 1.7 1.7 1.7 1.7 1.7 1.7 1.7 1.7 1.7 1.7 1.7 1.7 1.7 1.7 1.7 1.7 1.7 1.7 1.7 1.7 1.7 1.7 1.7 1.7 1.7 1.7 1.7 1.7 1.7 1.7 1.7 1.6933333333333334 1.6866666666666665 1.68 1.6733333333333333 1.6666666666666665 1.66 1.6533333333333333 1.6466666666666667 1.64 1.6333333333333333 1.6266666666666667 1.6199999999999999 1.6133333333333333 1.6066666666666667 1.6 1.5933333333333333 1.5866666666666667 1.58 1.5733333333333333 1.5666666666666667 1.56 1.5533333333333332 1.5466666666666666 1.54 1.5333333333333332 1.5266666666666666 1.52 1.5133333333333334 1.5066666666666666 1.5 1.4933333333333334 1.4866666666666666 1.48 1.4733333333333334 1.4666666666666668 1.46 1.4533333333333334 1.4466666666666668 1.44 1.4333333333333333 1.4266666666666667 1.42 1.4133333333333333 1.4066666666666667 1.4 1.3933333333333333 1.3866666666666667 1.38 1.3733333333333333 1.3666666666666667 1.36 1.3533333333333333 1.3466666666666667 1.34 1.3333333333333335 1.3266666666666667 1.32 1.3133333333333335 1.3066666666666666 1.3 1.2933333333333334 1.2866666666666666 1.28 1.2733333333333334 1.2666666666666666 1.26 1.2533333333333334 1.2466666666666668 1.24 1.2333333333333334 1.2266666666666668 1.22 1.2133333333333334 1.2066666666666668 1.2 1.1933333333333334 1.1866666666666668 1.18 1.1733333333333333 1.1666666666666667 1.1600000000000001 1.1533333333333333 1.1466666666666667 1.1400000000000001 1.1333333333333333 1.1266666666666667 1.12 1.1133333333333333 1.1066666666666667 1.1 1.0933333333333333 1.0866666666666667 1.08 1.0733333333333333 1.0666666666666667 1.06 1.0533333333333335 1.0466666666666666 1.04 1.0333333333333334 1.0266666666666666 1.02 1.0133333333333334 1.0066666666666668 1.0 0.9933333333333334 0.9866666666666667 0.98 0.9733333333333334 0.9666666666666667 0.96 0.9533333333333334 0.9466666666666668 0.94 0.9333333333333333 0.9266666666666667 0.92 0.9133333333333333 0.9066666666666667 0.9 0.9 0.9 0.9 0.9 0.9 0.9 0.9 0.9 0.9 0.9 0.9 0.9 0.9 0.9 0.9 0.9 0.9 0.9 0.9 0.9 0.9 0.9 0.9 0.9 0.9 0.9 0.9 0.9 0.9 0.9 0.9 0.9 0.9 0.9 0.9 0.9 0.9 0.9 0.9 0.9 0.9 0.9 0.9 0.9 0.9 0.9 0.9 0.9 0.9 0.9 0.9 0.9 0.9 0.9 0.9 0.9 0.9 0.9 0.9 0.9 0.9 0.9 0.9 0.9 0.9 0.9 0.9 0.9 0.9 0.9 0.9 0.9 0.9 0.9 0.9 0.9 0.9 0.9 0.9 0.9 0.9 0.9 0.9 0.9 0.9 0.9 0.9 0.9 0.9 0.9 0.9 0.9 0.9 0.9 0.9 0.9 0.9 0.9 0.9 0.9 0.9 0.9 0.9 0.9 0.9 0.9 0.9 0.9 0.9 0.9 0.9 0.9 0.9 0.9 0.9 0.9 0.9 0.9 0.9\n"
          ]
        }
      ]
    },
    {
      "source": [
        "from astral import LocationInfo\n",
        "from astral.sun import sun\n",
        "\n",
        "# Define city information using LocationInfo\n",
        "city = LocationInfo(city_name, region, timezone, latitude, longitude)\n"
      ],
      "cell_type": "code",
      "metadata": {
        "id": "HLxMpci3BsCk"
      },
      "execution_count": 48,
      "outputs": []
    },
    {
      "source": [
        "s = sun(city.observer, date=target_date)\n",
        "\n",
        "# Get sunrise time in minutes since midnight\n",
        "sunrise_time = s['sunrise']\n",
        "t_sunrise = int((sunrise_time - sunrise_time.replace(hour=0, minute=0, second=0, microsecond=0)).total_seconds() / 60)\n",
        "\n",
        "print(t_sunrise)"
      ],
      "cell_type": "code",
      "metadata": {
        "colab": {
          "base_uri": "https://localhost:8080/"
        },
        "id": "XhiPS9szR-Av",
        "outputId": "9c4c95b4-b748-4c49-ada0-ac7c552f3da8"
      },
      "execution_count": 49,
      "outputs": [
        {
          "output_type": "stream",
          "name": "stdout",
          "text": [
            "486\n"
          ]
        }
      ]
    },
    {
      "source": [
        "dusk_time = s['dusk']\n",
        "dusk_minutes = int((dusk_time - dusk_time.replace(hour=0, minute=0, second=0, microsecond=0)).total_seconds() / 60)"
      ],
      "cell_type": "code",
      "metadata": {
        "id": "YBgBdXBfjlCu"
      },
      "execution_count": 50,
      "outputs": []
    },
    {
      "source": [
        "alpha1 = 0.1\n",
        "alpha2 = 1\n",
        "beta = 1\n",
        "dayLength = 12"
      ],
      "cell_type": "code",
      "metadata": {
        "id": "fqUc0r4PBjmm"
      },
      "execution_count": 51,
      "outputs": []
    },
    {
      "cell_type": "code",
      "source": [],
      "metadata": {
        "id": "9vrDDA7MukyF"
      },
      "execution_count": 51,
      "outputs": []
    },
    {
      "cell_type": "code",
      "source": [
        "t_peak = 14*60\n",
        "month = month - 1\n",
        "\n",
        "data = [alpha1, alpha2, beta, dayLength, t_sunrise, T_monthly_mean, T_monthly_min, T_monthly_max, T_prev_minute_temps, month, t_peak]"
      ],
      "metadata": {
        "id": "kznTAWQZCJ-v"
      },
      "execution_count": 52,
      "outputs": []
    },
    {
      "cell_type": "code",
      "source": [
        "DERunge_Kutta_4(TemperatureModel, T_monthly_mean[month], 0, data)"
      ],
      "metadata": {
        "id": "D1PcyNIZNIRJ",
        "colab": {
          "base_uri": "https://localhost:8080/",
          "height": 472
        },
        "outputId": "eacc7d86-d7ed-4e4c-faad-2112317e9e48"
      },
      "execution_count": 53,
      "outputs": [
        {
          "output_type": "display_data",
          "data": {
            "text/plain": [
              "<Figure size 640x480 with 1 Axes>"
            ],
            "image/png": "[encoded data removed]"
          },
          "metadata": {}
        }
      ]
    }
  ]
}